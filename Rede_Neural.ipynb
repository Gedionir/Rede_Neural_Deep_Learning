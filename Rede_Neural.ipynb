{
  "nbformat": 4,
  "nbformat_minor": 0,
  "metadata": {
    "colab": {
      "provenance": [],
      "authorship_tag": "ABX9TyO+JaStbEDvIZnrC2W5D2w/",
      "include_colab_link": true
    },
    "kernelspec": {
      "name": "python3",
      "display_name": "Python 3"
    },
    "language_info": {
      "name": "python"
    }
  },
  "cells": [
    {
      "cell_type": "markdown",
      "metadata": {
        "id": "view-in-github",
        "colab_type": "text"
      },
      "source": [
        "<a href=\"https://colab.research.google.com/github/Gedionir/Rede_Neural_Deep_Learning/blob/main/Rede_Neural.ipynb\" target=\"_parent\"><img src=\"https://colab.research.google.com/assets/colab-badge.svg\" alt=\"Open In Colab\"/></a>"
      ]
    },
    {
      "cell_type": "markdown",
      "source": [
        "**REDE DE DEEP LEARNING PARA O RECONHECIMENTO DE DIGITO.**"
      ],
      "metadata": {
        "id": "2wq4LWCMqHof"
      }
    },
    {
      "cell_type": "code",
      "execution_count": 107,
      "metadata": {
        "id": "PU-7WnV45lCd"
      },
      "outputs": [],
      "source": [
        "import numpy as np\n",
        "import torch\n",
        "import torch.nn.functional as F\n",
        "import torchvision\n",
        "import matplotlib.pyplot as plt\n",
        "from time import time\n",
        "from torchvision import datasets, transforms\n",
        "from torch import nn, optim"
      ]
    },
    {
      "cell_type": "markdown",
      "source": [
        "Definindo a conversão das imagens do datasets para tensor."
      ],
      "metadata": {
        "id": "XC_erm5Ipmyx"
      }
    },
    {
      "cell_type": "code",
      "source": [
        "transform = transforms.ToTensor() #definindo a conversão de imagem para tensor\n",
        "\n",
        "trainset = datasets.MNIST('./MNIST_data/', download=True, train=True, transform=transform) # Carrega a parte de treino do dataset.\n",
        "trainloader = torch.utils.data.DataLoader(trainset, batch_size=64, shuffle=True) # Cria um buffer para pegar dados por partes.\n",
        "\n",
        "valset = datasets.MNIST('./MNIST_data/', download=True, train=False, transform=transform) # Carrega a parte de validação do dataset.\n",
        "valloader = torch.utils.data.DataLoader(valset, batch_size=64, shuffle=True) # Cria um buffer para pegar dados por partes."
      ],
      "metadata": {
        "id": "SiKIxGD8KMIr"
      },
      "execution_count": 108,
      "outputs": []
    },
    {
      "cell_type": "code",
      "source": [
        "dataiter = iter(trainloader)\n",
        "imagens, etiquetas = next(dataiter)\n",
        "plt.imshow(imagens[29].numpy().squeeze(), cmap='gray_r');"
      ],
      "metadata": {
        "colab": {
          "base_uri": "https://localhost:8080/",
          "height": 430
        },
        "id": "YkINIGLHN9D8",
        "outputId": "8e51a2b3-dd01-46a7-c5c1-53db12e9249b"
      },
      "execution_count": 109,
      "outputs": [
        {
          "output_type": "display_data",
          "data": {
            "text/plain": [
              "<Figure size 640x480 with 1 Axes>"
            ],
            "image/png": "[encoded data removed]"
          },
          "metadata": {}
        }
      ]
    },
    {
      "cell_type": "code",
      "source": [
        "print(imagens[0].shape) #para verificar as dimensões do tensor de cada imagem.\n",
        "print(etiquetas[0].shape) #para verificar as dimensões do tensor de cada etiqueta."
      ],
      "metadata": {
        "colab": {
          "base_uri": "https://localhost:8080/"
        },
        "id": "BBa5DrifScqk",
        "outputId": "fc2a7508-6c24-43ec-f98e-d46a4f5c4645"
      },
      "execution_count": 110,
      "outputs": [
        {
          "output_type": "stream",
          "name": "stdout",
          "text": [
            "torch.Size([1, 28, 28])\n",
            "torch.Size([])\n"
          ]
        }
      ]
    },
    {
      "cell_type": "code",
      "source": [
        "class Modelo(nn.Module):\n",
        "  def __init__(self):\n",
        "    super(Modelo, self).__init__()\n",
        "    self.linear1 == nn.Linear(28*28, 128) # cada camada de entrada, 784 neurônios que se ligam a 128 neurônios.\n",
        "    self.linear2 == nn.Linear(128, 64) # camada interna 1, 128 neurônios que se ligam a 64 neurônios.\n",
        "    self.linear3 == nn.Linear(64, 10) # camada interna 2, 64 neurônios que se ligam a 10 .\n",
        "    # Para cada camada de saída não é necessário definir nada , pois só precisamos pegar o output da camada interna 2.\n",
        "\n",
        "  def forward(self, X):\n",
        "    X = F. relu(self.linear1(X)) # função de ativação da camada de entrada para cada camada interna 1.\n",
        "    X = F. relu(self.linear2(X)) # função de ativação da camada de entrada 1 para cada camada interna 2.\n",
        "    X = self.linear3(x) #função de ativação da camda de entrada 2 para a camada de saída, neste caso f(x) = x\n",
        "    return F.log_softmax(X, din=1) # dados utilizados para calcular a perda."
      ],
      "metadata": {
        "id": "Y9fkxTTOBDgH"
      },
      "execution_count": 111,
      "outputs": []
    },
    {
      "cell_type": "code",
      "source": [],
      "metadata": {
        "id": "XeV8x6bZhzZ_"
      },
      "execution_count": null,
      "outputs": []
    },
    {
      "cell_type": "markdown",
      "source": [
        "Modelo para treinar."
      ],
      "metadata": {
        "id": "LSH-0dylpWjt"
      }
    },
    {
      "cell_type": "code",
      "source": [
        "def treino(modelo, trainloader, device):\n",
        "\n",
        "  otimizador = optim.SGD(modelo.parameters(), lr=0.01, momentum=0.5) # define a política de atualização dos pesos e da bias.\n",
        "  inicio : float\n",
        "  inicio = time() # timer para sabermos quanto tempo levou o treino.\n",
        "\n",
        "  criterio = nn.NLLLoss() # definindo critérios para calcular as perdas.\n",
        "  EPOCHS = 10 # numéros de epochs que o algoritmos rodará.\n",
        "  modelo.train() # ativando o modo de treinamento do modelo.\n",
        "\n",
        "  for epoch in range(EPOCHS):\n",
        "    perda_acumulada = 0 # inicialização da perda acumulada da epoch em questão.\n",
        "\n",
        "    for imagens, etiquetas in trainloader:\n",
        "      imagens = imagens.view(imagens.shape[0], -1) # convertendo as imagens para vetores de 28*28 casas para ficarem compativeis com a\n",
        "      otimizador.zero_grad() # zerando os gradientes por conta do ciclo anterior.\n",
        "\n",
        "      output = modelo(imagens.to(device)) # colocando dados no modelo.\n",
        "      perda_instantanea = criterio(output, etiquetas.to(device)) #  calculando a perda da epoch em questão.\n",
        "\n",
        "      perda_instantanea.backward()  # back propagation a partir da perda.\n",
        "\n",
        "      otimizador.step() # atualizandos os pesos e as bias.\n",
        "\n",
        "      perda_acumulada += perda_instantanea.item() # atualização da perda acumulada.\n",
        "\n",
        "\n",
        "    else:\n",
        "        print(\"Epoch {} - Perda resultante: {}\".format(epoch+1, perda_acumulada/len(trainloader)))\n",
        "        print(\"\\nTempo de treino (em minutos) =\",(time()-inicio)/60)\n"
      ],
      "metadata": {
        "id": "BSb6_74pE3Nx"
      },
      "execution_count": 112,
      "outputs": []
    },
    {
      "cell_type": "markdown",
      "source": [
        "Rodar a validação. Algoritmo vai verificar a base de dados do treino com o que esta acontecendo com o treinamento."
      ],
      "metadata": {
        "id": "HUBXog9tkNYG"
      }
    },
    {
      "cell_type": "code",
      "source": [
        "def validacao(modelo, valloader, device):\n",
        "  conta_corretas, conta_todas = 0, 0\n",
        "  for imagens, estiquetas in valloader:\n",
        "    for i in range(len(etiquetas)):\n",
        "      img = imagens[i].view(1, 784) # Desativar o autograd para acelerar a validação. Grafos computacionais dinâmicos tem um custo alto de processamento.\n",
        "      with torch.no_grad():\n",
        "        logps = modelo(img.to(device)) # output do modelo em escala logarítmica.\n",
        "\n",
        "      ps = torch.exp(logps) # Converte output para escala normal(lembrando que é um tensor).\n",
        "      probab = list(ps.cpu().numpy()[0])\n",
        "      etiqueta_pred = probab.index(max(probab)) # converte um tensor em um número, no caso, o número que o modelo previu como correto.\n",
        "      etiqueta_certa = etiquetas.numpy()[i]\n",
        "      if(etiqueta_certa == etiqueta_pred): # compara a previsão com o valor correto.\n",
        "        conta_corretas += 1\n",
        "      conta_todas += 1\n",
        "\n",
        "  print(\"Total de imagens testadas =\", conta_todas)\n",
        "  print(\"\\nPrecisão do modelo = {}%\".format(conta_corretas*100/conta_todas))\n"
      ],
      "metadata": {
        "id": "5cNaxmg-lrUQ"
      },
      "execution_count": 113,
      "outputs": []
    },
    {
      "cell_type": "code",
      "source": [
        "#modelo = Modelo()\n",
        "#device = torch.device(\"cuda\" if torch.cuda.is_available() else \"cpu\")\n",
        "#modelo.to(device)\n"
      ],
      "metadata": {
        "id": "smc9Ej6qiylf"
      },
      "execution_count": 114,
      "outputs": []
    }
  ]
}